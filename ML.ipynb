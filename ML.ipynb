{
 "cells": [
  {
   "cell_type": "code",
   "execution_count": 154,
   "metadata": {},
   "outputs": [],
   "source": [
    "import numpy as np\n",
    "import pandas as pd"
   ]
  },
  {
   "cell_type": "code",
   "execution_count": 155,
   "metadata": {},
   "outputs": [],
   "source": [
    "file = '/home/peppo/Documents/Machine-Learning/train.csv'\n",
    "\n",
    "data = pd.read_csv(file)\n",
    "data = np.array(data)\n",
    "\n",
    "m, n = data.shape"
   ]
  },
  {
   "cell_type": "code",
   "execution_count": 156,
   "metadata": {},
   "outputs": [],
   "source": [
    "np.random.shuffle(data)"
   ]
  },
  {
   "cell_type": "code",
   "execution_count": 157,
   "metadata": {},
   "outputs": [],
   "source": [
    "data_dev = data[0:1000].T\n",
    "Y_dev = data_dev[0]\n",
    "X_dev = data_dev[1:n]\n",
    "X_dev = X_dev / 255.\n",
    "\n",
    "data_train = data[1000:m].T\n",
    "Y_train = data_train[0]\n",
    "X_train = data_train[1:n]\n",
    "X_train = X_train / 255."
   ]
  },
  {
   "cell_type": "code",
   "execution_count": 158,
   "metadata": {},
   "outputs": [],
   "source": [
    "def init_param():\n",
    "    W1 = np.random.randn(10,784)\n",
    "    b1 = np.random.randn(10,1)\n",
    "\n",
    "    W2 = np.random.randn(10,10)\n",
    "    b2 = np.random.randn(10,1)\n",
    "\n",
    "    return W1,b1,W2,b2   "
   ]
  },
  {
   "cell_type": "code",
   "execution_count": 159,
   "metadata": {},
   "outputs": [],
   "source": [
    "W1,b1,W2,b2 = init_param()"
   ]
  },
  {
   "cell_type": "markdown",
   "metadata": {},
   "source": [
    "<h2>Forward Propagation"
   ]
  },
  {
   "cell_type": "code",
   "execution_count": 160,
   "metadata": {},
   "outputs": [],
   "source": [
    "def ReLu(Z):\n",
    "    return np.maximum(Z,0)"
   ]
  },
  {
   "cell_type": "code",
   "execution_count": 161,
   "metadata": {},
   "outputs": [],
   "source": [
    "def softmax(Z):\n",
    "    return np.exp(Z) / sum(np.exp(Z))"
   ]
  },
  {
   "cell_type": "code",
   "execution_count": 162,
   "metadata": {},
   "outputs": [],
   "source": [
    "def forward_prop(W1,b1,W2,b2,X):\n",
    "    \n",
    "    Z1 = W1.dot(X)+b1\n",
    "    A1 = ReLu(Z1)\n",
    "    Z2 = W2.dot(A1)+b2\n",
    "    A2 = softmax(Z2)\n",
    "\n",
    "    return Z1,A1,Z2,A2"
   ]
  },
  {
   "cell_type": "markdown",
   "metadata": {},
   "source": [
    "<h2>Backward Prop"
   ]
  },
  {
   "cell_type": "code",
   "execution_count": 163,
   "metadata": {},
   "outputs": [],
   "source": [
    "def one_hot(Y):\n",
    "    \n",
    "    one_hot_Y = np.zeros((Y.size,Y.max()+1))\n",
    "    one_hot_Y[np.arange(Y.size),Y] = 1\n",
    "    one_hot_Y = one_hot_Y.T\n",
    "\n",
    "    return one_hot_Y"
   ]
  },
  {
   "cell_type": "code",
   "execution_count": 164,
   "metadata": {},
   "outputs": [],
   "source": [
    "def der_ReLu(Z):\n",
    "    return Z > 0"
   ]
  },
  {
   "cell_type": "code",
   "execution_count": 165,
   "metadata": {},
   "outputs": [],
   "source": [
    "def backward_prop(Z1,A1,Z2,A2,X,Y):\n",
    "    \n",
    "    m = Y.size\n",
    "\n",
    "    one_hot_Y = one_hot(Y)\n",
    "\n",
    "    dZ2 = A2 - one_hot_Y\n",
    "    dW2 = (1/m) * dZ2.dot(A1.T)\n",
    "    db2 = (1/m) * np.sum(dZ2)\n",
    "    \n",
    "    dZ1 = W2.T.dot(dZ2) * der_ReLu(Z1)\n",
    "    dW1 = (1/m) * dZ1.dot(X.T)\n",
    "    db1 = (1/m) * np.sum(dZ1)\n",
    "\n",
    "    return dW1,db1,dW2,db2"
   ]
  },
  {
   "cell_type": "code",
   "execution_count": 166,
   "metadata": {},
   "outputs": [],
   "source": [
    "def update_params(W1,b1,W2,b2,dW1,db1,dW2,db2,alpha):\n",
    "    \n",
    "    W1 -= alpha*dW1\n",
    "    W2 -= alpha*dW2\n",
    "    b1 -= alpha*db1\n",
    "    b2 -= alpha*db2\n",
    "\n",
    "    return W1,b1,W2,b2"
   ]
  },
  {
   "cell_type": "code",
   "execution_count": 167,
   "metadata": {},
   "outputs": [],
   "source": [
    "def prediction(A2):\n",
    "    return np.argmax(A2,0)\n",
    "\n",
    "def accuracy(prediction,Y):\n",
    "    print(prediction,Y)\n",
    "    return np.sum(prediction == Y)/Y.size"
   ]
  },
  {
   "cell_type": "code",
   "execution_count": 168,
   "metadata": {},
   "outputs": [],
   "source": [
    "def gradient_descent(X,Y,interations,alpha):\n",
    "    \n",
    "    W1,b1,W2,b2 = init_param()\n",
    "    for i in range(interations):\n",
    "        \n",
    "        Z1, A1, Z2, A2 = forward_prop(W1,b1,W2,b2,X)\n",
    "        dW1,db1,dW2,db2 = backward_prop(Z1, A1, Z2, A2,X,Y)\n",
    "        W1,b1,W2,b2 = update_params(W1,b1,W2,b2,dW1,db1,dW2,db2,alpha)\n",
    "\n",
    "        if i % 50 == 0:\n",
    "\n",
    "            print(\"Number of iterations:\\t\",i)\n",
    "            print(\"Accuracy:\\t\",accuracy(prediction(A2),Y))\n",
    "        \n",
    "    return W1,b1,W2,b2"
   ]
  },
  {
   "cell_type": "code",
   "execution_count": 169,
   "metadata": {},
   "outputs": [
    {
     "name": "stdout",
     "output_type": "stream",
     "text": [
      "Number of iterations:\t 0\n",
      "[7 7 3 ... 4 7 3] [5 3 9 ... 1 9 4]\n",
      "Accuracy:\t 0.09414634146341463\n",
      "Number of iterations:\t 50\n",
      "[3 3 4 ... 6 4 4] [5 3 9 ... 1 9 4]\n",
      "Accuracy:\t 0.46726829268292686\n",
      "Number of iterations:\t 100\n",
      "[9 6 9 ... 1 9 4] [5 3 9 ... 1 9 4]\n",
      "Accuracy:\t 0.5956829268292683\n",
      "Number of iterations:\t 150\n",
      "[3 6 9 ... 6 9 4] [5 3 9 ... 1 9 4]\n",
      "Accuracy:\t 0.6559268292682927\n",
      "Number of iterations:\t 200\n",
      "[3 6 8 ... 1 7 4] [5 3 9 ... 1 9 4]\n",
      "Accuracy:\t 0.6319024390243903\n",
      "Number of iterations:\t 250\n",
      "[9 6 9 ... 1 9 4] [5 3 9 ... 1 9 4]\n",
      "Accuracy:\t 0.660829268292683\n",
      "Number of iterations:\t 300\n",
      "[3 6 9 ... 1 9 4] [5 3 9 ... 1 9 4]\n",
      "Accuracy:\t 0.7118292682926829\n",
      "Number of iterations:\t 350\n",
      "[5 6 7 ... 1 7 4] [5 3 9 ... 1 9 4]\n",
      "Accuracy:\t 0.6409268292682927\n",
      "Number of iterations:\t 400\n",
      "[3 6 9 ... 1 9 4] [5 3 9 ... 1 9 4]\n",
      "Accuracy:\t 0.7298536585365853\n",
      "Number of iterations:\t 450\n",
      "[3 6 9 ... 1 9 4] [5 3 9 ... 1 9 4]\n",
      "Accuracy:\t 0.7514634146341463\n",
      "Number of iterations:\t 500\n",
      "[3 3 9 ... 1 9 4] [5 3 9 ... 1 9 4]\n",
      "Accuracy:\t 0.6940731707317073\n",
      "Number of iterations:\t 550\n",
      "[5 3 9 ... 1 9 4] [5 3 9 ... 1 9 4]\n",
      "Accuracy:\t 0.8247317073170731\n",
      "Number of iterations:\t 600\n",
      "[5 3 9 ... 1 9 4] [5 3 9 ... 1 9 4]\n",
      "Accuracy:\t 0.8383658536585366\n",
      "Number of iterations:\t 650\n",
      "[5 3 9 ... 1 9 4] [5 3 9 ... 1 9 4]\n",
      "Accuracy:\t 0.8465609756097561\n",
      "Number of iterations:\t 700\n",
      "[5 3 9 ... 1 9 4] [5 3 9 ... 1 9 4]\n",
      "Accuracy:\t 0.8477317073170731\n"
     ]
    }
   ],
   "source": [
    "W1,b1,W2,b2 = gradient_descent(X_train,Y_train,10000,.5)"
   ]
  }
 ],
 "metadata": {
  "kernelspec": {
   "display_name": "Python 3",
   "language": "python",
   "name": "python3"
  },
  "language_info": {
   "codemirror_mode": {
    "name": "ipython",
    "version": 3
   },
   "file_extension": ".py",
   "mimetype": "text/x-python",
   "name": "python",
   "nbconvert_exporter": "python",
   "pygments_lexer": "ipython3",
   "version": "3.10.12"
  }
 },
 "nbformat": 4,
 "nbformat_minor": 2
}
